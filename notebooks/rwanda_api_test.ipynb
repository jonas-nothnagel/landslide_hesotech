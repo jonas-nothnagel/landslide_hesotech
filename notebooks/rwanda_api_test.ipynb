{
 "cells": [
  {
   "cell_type": "code",
   "execution_count": 7,
   "metadata": {},
   "outputs": [],
   "source": [
    "import requests\n",
    "import json\n",
    "from pathlib import Path\n",
    "import os\n",
    "import sys\n",
    "sys.path.insert(0, os.path.abspath(os.path.join('..', 'src')))"
   ]
  },
  {
   "cell_type": "code",
   "execution_count": 18,
   "metadata": {},
   "outputs": [],
   "source": [
    "clientCrt = \"../certificates/rw.crt\"\n",
    "clientKey = \"../certificates/rw.key\"\n",
    "\n",
    "apiBaseUrl = \"https://docucamrw.hesotech.eu/DocuCam/CameraOne/api/v1\"\n",
    "channelInfoUrl = apiBaseUrl + \"/Data/ChannelInfo\"\n",
    "imageApiUrl = apiBaseUrl + \"/Data/ImageAndMeasurements\"  # measurements are averages during scan time (scan time 5-30min)\n",
    "\n",
    "headers = {'content-type': 'application/json'}"
   ]
  },
  {
   "cell_type": "code",
   "execution_count": 27,
   "metadata": {},
   "outputs": [],
   "source": [
    "requestData = {\n",
    "    'SiteName': 'CameraTwo',\n",
    "    'SceneName': 'SmallFieldSlide',\n",
    "    'TimeRange': {\n",
    "        'Minimum': '2023-01-01T00:00:00.000Z',\n",
    "        'Maximum': '2023-02-01T00:00:00.000Z'\n",
    "    },\n",
    "    'Coordinates': [ { 'Layer': 0, 'Row': 1, 'Col': 0 }, { 'Layer': 0, 'Row': 1, 'Col': 1 } ]  \n",
    "\n",
    "}"
   ]
  },
  {
   "cell_type": "code",
   "execution_count": 28,
   "metadata": {},
   "outputs": [],
   "source": [
    "channelResponse = requests.get(channelInfoUrl, headers=headers, cert=(clientCrt, clientKey), allow_redirects=True)\n",
    "\n",
    "if (channelResponse.status_code != 200):\n",
    "    print('Something went wrong!')\n",
    "    exit(-1)"
   ]
  },
  {
   "cell_type": "code",
   "execution_count": 29,
   "metadata": {},
   "outputs": [],
   "source": [
    "response = requests.post(\n",
    "    imageApiUrl,\n",
    "    headers=headers,\n",
    "    cert=(clientCrt, clientKey),\n",
    "    allow_redirects=True,\n",
    "    data=json.dumps(requestData)\n",
    ")\n",
    "\n",
    "if (response.status_code != 200):\n",
    "    print('Something went wrong!')\n",
    "    exit(-1)\n"
   ]
  },
  {
   "cell_type": "code",
   "execution_count": 30,
   "metadata": {},
   "outputs": [
    {
     "data": {
      "text/plain": [
       "{'Timestamp': '2023-01-01T08:08:45.293837+00:00',\n",
       " 'Values': [17.700000762939453,\n",
       "  57,\n",
       "  100000,\n",
       "  718.2999877929688,\n",
       "  5953,\n",
       "  17.899999618530273,\n",
       "  4.972222328186035,\n",
       "  0,\n",
       "  0,\n",
       "  127,\n",
       "  2],\n",
       " 'ImageUrls': ['https://docucamrw.hesotech.eu/DocuCam/CameraOne/Image/1/0/1/0/2023-01-01T08-08Z',\n",
       "  'https://docucamrw.hesotech.eu/DocuCam/CameraOne/Image/1/0/1/1/2023-01-01T08-08Z']}"
      ]
     },
     "execution_count": 30,
     "metadata": {},
     "output_type": "execute_result"
    }
   ],
   "source": [
    "channelInfoData = channelResponse.json()\n",
    "data = response.json()\n",
    "data[0]\n",
    "# for record in data:\n",
    "#     print(record['Timestamp'], ' -> ', record['Values'], ' -> ', record['ImageUrls'])"
   ]
  },
  {
   "cell_type": "code",
   "execution_count": null,
   "metadata": {},
   "outputs": [],
   "source": []
  },
  {
   "cell_type": "code",
   "execution_count": null,
   "metadata": {},
   "outputs": [],
   "source": []
  }
 ],
 "metadata": {
  "language_info": {
   "name": "python"
  },
  "orig_nbformat": 4
 },
 "nbformat": 4,
 "nbformat_minor": 2
}
