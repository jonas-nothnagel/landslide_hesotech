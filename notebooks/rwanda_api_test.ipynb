{
 "cells": [
  {
   "cell_type": "code",
   "execution_count": 1,
   "metadata": {},
   "outputs": [],
   "source": [
    "import requests\n",
    "import json\n",
    "from pathlib import Path\n",
    "import os\n",
    "import sys\n",
    "import pandas as pd\n",
    "from datetime import datetime\n",
    "sys.path.insert(0, os.path.abspath(os.path.join('..', 'src')))\n",
    "\n",
    "import utils as util"
   ]
  },
  {
   "cell_type": "code",
   "execution_count": 2,
   "metadata": {},
   "outputs": [],
   "source": [
    "clientCrt = \"../certificates/rw.crt\"\n",
    "clientKey = \"../certificates/rw.key\"\n",
    "\n",
    "apiBaseUrl = \"https://docucamrw.hesotech.eu/DocuCam/CameraOne/api/v1\"\n",
    "channelInfoUrl = apiBaseUrl + \"/Data/ChannelInfo\" \n",
    "imageApiUrl = apiBaseUrl + \"/Data/ImageAndMeasurements\"  # measurements are averages during scan time (scan time 5-30min)\n",
    "\n",
    "headers = {'content-type': 'application/json'}"
   ]
  },
  {
   "cell_type": "code",
   "execution_count": 3,
   "metadata": {},
   "outputs": [],
   "source": [
    "requestData = {\n",
    " \n",
    "    # SiteName takes in two different parameters: [CameraOne, CameraTwo]\n",
    "    # SceneName takes in different parameteres depending on SiteName:  [CameraOne [HospitalView]], [CameraTwo [SmallStreetSlide, StreetSlide, SchoolView]]\n",
    "\n",
    "    # If you want to return all availalbe scans and images, comment out the Coordinates line.\n",
    "   \n",
    "    'SiteName': 'CameraTwo',\n",
    "    'SceneName': 'SmallFieldSlide',\n",
    "    'TimeRange': {\n",
    "        'Minimum': '2022-01-01T00:00:00.000Z',\n",
    "        'Maximum': '2023-02-27T15:43:16.000Z'\n",
    "    },\n",
    "    #'Coordinates': [ { 'Layer': 0, 'Row': 1, 'Col': 0 }, { 'Layer': 0, 'Row': 1, 'Col': 1 } ]  # comment out if you want to return all images\n",
    "}"
   ]
  },
  {
   "cell_type": "code",
   "execution_count": 4,
   "metadata": {},
   "outputs": [],
   "source": [
    "channelResponse = requests.get(channelInfoUrl, headers=headers, cert=(clientCrt, clientKey), allow_redirects=True)\n",
    "\n",
    "if (channelResponse.status_code != 200):\n",
    "    print('Something went wrong!')\n",
    "    exit(-1)"
   ]
  },
  {
   "cell_type": "code",
   "execution_count": 5,
   "metadata": {},
   "outputs": [],
   "source": [
    "response = requests.post(\n",
    "    imageApiUrl,\n",
    "    headers=headers,\n",
    "    cert=(clientCrt, clientKey),\n",
    "    allow_redirects=True,\n",
    "    data=json.dumps(requestData)\n",
    ")\n",
    "\n",
    "if (response.status_code != 200):\n",
    "    print('Something went wrong!')\n",
    "    exit(-1)\n"
   ]
  },
  {
   "cell_type": "code",
   "execution_count": 6,
   "metadata": {},
   "outputs": [],
   "source": [
    "channelInfoData = channelResponse.json()\n",
    "data = response.json()"
   ]
  },
  {
   "cell_type": "code",
   "execution_count": 7,
   "metadata": {},
   "outputs": [],
   "source": [
    "# obtain measurement labels\n",
    "skip_rate = 2\n",
    "measurement_labels = []\n",
    "for item in channelInfoData:\n",
    "    for index, (key, value) in enumerate(item.items()):\n",
    "        if index % skip_rate == 0:\n",
    "            measurement_labels.append(value)\n",
    "\n",
    "# map labels with measurements and drop redundant columns\n",
    "df = pd.DataFrame(data)\n",
    "count = 0\n",
    "for i in measurement_labels:\n",
    "    df[i] =df['Values'].apply(lambda x: x[count] )\n",
    "    count = count + 1\n",
    "df = df.drop(columns=['Values'])"
   ]
  },
  {
   "cell_type": "markdown",
   "metadata": {},
   "source": [
    "# Put it into function \n",
    "We wrap the data request into a nice reusable function and store it under the src folder and cann simply call it in the next step."
   ]
  },
  {
   "cell_type": "code",
   "execution_count": 13,
   "metadata": {},
   "outputs": [],
   "source": [
    "# get all data from camera one\n",
    "camera_one_data = util.return_data(site = \"CameraOne\", scene = \"HospitalView\", all_coordinates = True)"
   ]
  },
  {
   "cell_type": "code",
   "execution_count": null,
   "metadata": {},
   "outputs": [],
   "source": [
    "# get all datasets from camera two\n",
    "camera_two_data_1 = util.return_data(site = \"CameraTwo\", scene = \"SmallFieldSlide\", all_coordinates = True)\n",
    "camera_two_data_2 = util.return_data(site = \"CameraTwo\", scene = \"StreetSlide\", all_coordinates = True)\n",
    "camera_two_data_3 = util.return_data(site = \"CameraTwo\", scene = \"SchoolView\", all_coordinates = True)"
   ]
  },
  {
   "cell_type": "code",
   "execution_count": null,
   "metadata": {},
   "outputs": [],
   "source": [
    "# merge all four datasets and sort by \n",
    "df_all = pd.concat([camera_one_data, camera_two_data_1, camera_two_data_2, camera_two_data_3], \n",
    "                   keys=[\"CameraOne_HospitalView\", \"CameraTwo_SmallFieldSlide\", \"CameraTwo_StreetSlide\", \"CameraTwo_SchoolView\"])"
   ]
  },
  {
   "cell_type": "code",
   "execution_count": null,
   "metadata": {},
   "outputs": [],
   "source": [
    "# save data\n",
    "df_all.to_csv(os.path.abspath(os.path.join('..', 'data'))+'/data_all_cameras.csv', index=False)"
   ]
  },
  {
   "cell_type": "code",
   "execution_count": null,
   "metadata": {},
   "outputs": [],
   "source": [
    "df_all"
   ]
  },
  {
   "cell_type": "code",
   "execution_count": null,
   "metadata": {},
   "outputs": [],
   "source": [
    "# make dataframe completely visible:\n",
    "from pprint import pprint\n",
    "from IPython.display import display, HTML\n",
    "\n",
    "display(HTML(df_all.to_html()))"
   ]
  },
  {
   "cell_type": "markdown",
   "metadata": {},
   "source": [
    "# To-Do\n",
    "* allow for coordinate input in query function\n",
    "* allow to query all different datasets for each site and each scence and combine"
   ]
  },
  {
   "cell_type": "code",
   "execution_count": 9,
   "metadata": {},
   "outputs": [],
   "source": [
    "# try improved function\n",
    "import rw_request as rw_rq"
   ]
  },
  {
   "cell_type": "code",
   "execution_count": 10,
   "metadata": {},
   "outputs": [],
   "source": [
    "camera_two_data_3 = rw_rq.return_data(site = \"CameraTwo\", scene = \"SchoolView\", all_coordinates = True)"
   ]
  },
  {
   "cell_type": "code",
   "execution_count": null,
   "metadata": {},
   "outputs": [],
   "source": []
  }
 ],
 "metadata": {
  "kernelspec": {
   "display_name": "Python 3 (ipykernel)",
   "language": "python",
   "name": "python3"
  },
  "language_info": {
   "codemirror_mode": {
    "name": "ipython",
    "version": 3
   },
   "file_extension": ".py",
   "mimetype": "text/x-python",
   "name": "python",
   "nbconvert_exporter": "python",
   "pygments_lexer": "ipython3",
   "version": "3.9.7"
  }
 },
 "nbformat": 4,
 "nbformat_minor": 2
}
