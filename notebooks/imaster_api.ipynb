{
 "cells": [
  {
   "cell_type": "markdown",
   "id": "8ece4bb7",
   "metadata": {},
   "source": [
    "# This notebook shall serve as a base to experiment with simple API calls from the IMaster API.\n",
    "\n",
    "Objectives:\n",
    "\n",
    "* Write script to obtain all available measurements for a specific timestamp. \n",
    "* Understand how many measurements are available per day - are they complete or are some more frequently recorded than others?\n",
    "* Understand how to process the data timewise: If we are looking at a timestamp, does it make sense to build averages/medians/etc for measurements around this timestamp/this day?\n",
    "\n",
    "* IMPORTANT: How to obtain measurements taken at the same time as a given image? Apparently the timestamps are not at sync. Do we need to write a function that finds the closest timestamp for a given image - or shall we take average for a specific time around that image again? ---> Different approaches possible. "
   ]
  },
  {
   "cell_type": "code",
   "execution_count": null,
   "id": "ef0003b0",
   "metadata": {},
   "outputs": [],
   "source": []
  }
 ],
 "metadata": {
  "kernelspec": {
   "display_name": "Python 3 (ipykernel)",
   "language": "python",
   "name": "python3"
  },
  "language_info": {
   "codemirror_mode": {
    "name": "ipython",
    "version": 3
   },
   "file_extension": ".py",
   "mimetype": "text/x-python",
   "name": "python",
   "nbconvert_exporter": "python",
   "pygments_lexer": "ipython3",
   "version": "3.9.7"
  }
 },
 "nbformat": 4,
 "nbformat_minor": 5
}
