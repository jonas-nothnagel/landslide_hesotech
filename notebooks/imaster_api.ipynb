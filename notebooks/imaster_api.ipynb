{
 "cells": [
  {
   "cell_type": "markdown",
   "id": "bc52ad30",
   "metadata": {},
   "source": [
    "# This notebook shall serve as a base to experiment with simple API calls from the IMaster API.\n",
    "\n",
    "Objectives:\n",
    "\n",
    "* Write script to obtain all available measurements for a specific timestamp. \n",
    "* Understand how many measurements are available per day - are they complete or are some more frequently recorded than others?\n",
    "* Understand how to process the data timewise: If we are looking at a timestamp, does it make sense to build averages/medians/etc for measurements around this timestamp/this day?\n",
    "\n",
    "* IMPORTANT: How to obtain measurements taken at the same time as a given image? Apparently the timestamps are not at sync. Do we need to write a function that finds the closest timestamp for a given image - or shall we take average for a specific time around that image again? ---> Different approaches possible. "
   ]
  },
  {
   "cell_type": "markdown",
   "id": "7206d057",
   "metadata": {},
   "source": [
    "# Swagger API Address:\n",
    "https://langenthal.hesotech.eu/imaster/api/index.html"
   ]
  },
  {
   "cell_type": "code",
   "execution_count": 1,
   "id": "05c84766",
   "metadata": {},
   "outputs": [],
   "source": [
    "import requests\n",
    "\n",
    "# set src folder as default path to easily import helper functions\n",
    "import glob, os, sys; sys.path.append('../src')"
   ]
  },
  {
   "cell_type": "code",
   "execution_count": 2,
   "id": "bb5ba694",
   "metadata": {},
   "outputs": [],
   "source": [
    "# import certificates and keys for access\n",
    "clientCrt = \"../certificates/pilot-users.crt\"\n",
    "clientKey = \"../certificates/pilot-users.key\""
   ]
  },
  {
   "cell_type": "code",
   "execution_count": 3,
   "id": "a60f34a1",
   "metadata": {},
   "outputs": [],
   "source": [
    "# example query\n",
    "url = \"https://langenthal.hesotech.eu/imaster/api/v1/TestRunReportingService/GetMeasurementSetList\"\n",
    "\n",
    "headers = {'content-type': 'application/json'}\n",
    "payload = {\n",
    "  'chartQuery': {\n",
    "    'chartId': '02a96b64-7792-a940-4fe5-edace24deeb0',\n",
    "    'from': '2021-09-17T09:29:54.252178+00:00',\n",
    "    'till': '2022-08-17T09:29:54.252178+00:00',\n",
    "    'maxNumberOfPoints': 1\n",
    "  }\n",
    "}\n",
    "r = requests.post(url, headers=headers, cert=(clientCrt, clientKey), json=payload)"
   ]
  },
  {
   "cell_type": "code",
   "execution_count": 33,
   "id": "89ea52f9",
   "metadata": {},
   "outputs": [
    {
     "name": "stdout",
     "output_type": "stream",
     "text": [
      "200\n",
      "{'d': {'results': [[{'timeStamp': 637674607555581530, 'values': [14.1, 91, 4793, 20.7, 0, 5833, 57.5, 0, 0]}, {'timeStamp': 637752960000000000, 'values': [6.6, 92, 0, 20.7, 0, 3960, 37.5, 22.5, 10.5]}]], 'lastError': ''}}\n"
     ]
    }
   ],
   "source": [
    "# print results\n",
    "print(r.status_code)\n",
    "print(r.json())"
   ]
  },
  {
   "cell_type": "code",
   "execution_count": null,
   "id": "49ba5111",
   "metadata": {},
   "outputs": [],
   "source": []
  }
 ],
 "metadata": {
  "kernelspec": {
   "display_name": "Python 3",
   "language": "python",
   "name": "python3"
  },
  "language_info": {
   "codemirror_mode": {
    "name": "ipython",
    "version": 3
   },
   "file_extension": ".py",
   "mimetype": "text/x-python",
   "name": "python",
   "nbconvert_exporter": "python",
   "pygments_lexer": "ipython3",
   "version": "3.9.7"
  }
 },
 "nbformat": 4,
 "nbformat_minor": 5
}
