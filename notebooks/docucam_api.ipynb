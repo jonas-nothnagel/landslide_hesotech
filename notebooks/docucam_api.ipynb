{
 "cells": [
  {
   "cell_type": "markdown",
   "id": "a556ab1d",
   "metadata": {},
   "source": [
    "# This notebook shall serve as a base to experiment with simple API calls from the DocuCam API.\n",
    "\n",
    "Objectives, write scripts for:\n",
    "\n",
    "* Obtain an image for a specific timestamp. \n",
    "* Obtain images for a specific time range (1day+)\n",
    "* Understand the data structure --> Full Images and their respective layers (500?). How to obtain them.\n",
    "* Obtain image + layers or only specific layers. \n",
    "\n",
    "In the end, we would want to have a script that takes some parameters as input (time range, location, quality, etc) and outputs a dataframe that combines both: Measurements per timestamp and the image plus the respective layers per timestamp. Images may be appended as simple numerical representations OR in the first step simply provide path to were image is stored. \n",
    "\n",
    "Problem: time stamps not in sync. Need to create a costum common identifier? \n"
   ]
  },
  {
   "cell_type": "code",
   "execution_count": null,
   "id": "6396ef0c",
   "metadata": {},
   "outputs": [],
   "source": []
  }
 ],
 "metadata": {
  "kernelspec": {
   "display_name": "Python 3 (ipykernel)",
   "language": "python",
   "name": "python3"
  },
  "language_info": {
   "codemirror_mode": {
    "name": "ipython",
    "version": 3
   },
   "file_extension": ".py",
   "mimetype": "text/x-python",
   "name": "python",
   "nbconvert_exporter": "python",
   "pygments_lexer": "ipython3",
   "version": "3.9.7"
  }
 },
 "nbformat": 4,
 "nbformat_minor": 5
}
