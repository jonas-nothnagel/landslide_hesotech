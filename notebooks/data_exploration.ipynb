{
 "cells": [
  {
   "cell_type": "code",
   "execution_count": 49,
   "metadata": {},
   "outputs": [],
   "source": [
    "import pandas as pd\n",
    "\n",
    "# set src folder as default path to easily import helper functions\n",
    "import glob, os, sys; sys.path.append('../src')"
   ]
  },
  {
   "cell_type": "code",
   "execution_count": 50,
   "metadata": {},
   "outputs": [],
   "source": [
    "df = pd.read_csv(\"../data/camera_two_subset.csv\")"
   ]
  },
  {
   "cell_type": "code",
   "execution_count": 58,
   "metadata": {},
   "outputs": [
    {
     "data": {
      "text/plain": [
       "\"['https://docucamrw.hesotech.eu/DocuCam/CameraTwo/Image/2/1/3/1/2022-10-20T08-00Z']\""
      ]
     },
     "execution_count": 58,
     "metadata": {},
     "output_type": "execute_result"
    }
   ],
   "source": [
    "df.ImageUrls.iloc[2]"
   ]
  },
  {
   "cell_type": "code",
   "execution_count": 59,
   "metadata": {},
   "outputs": [],
   "source": [
    "# try to save image to local folder\n",
    "import requests\n",
    "from io import BytesIO\n",
    "from PIL import Image\n",
    "\n",
    "def download_image(url, save_path):\n",
    "    try:\n",
    "        # Send a request to the URL to get the image content\n",
    "        response = requests.get(url)\n",
    "        response.raise_for_status()  # Raise an exception for bad requests\n",
    "\n",
    "        # Open the image using Pillow\n",
    "        image = Image.open(BytesIO(response.content))\n",
    "\n",
    "        # Save the image to the specified path\n",
    "        image.save(save_path)\n",
    "\n",
    "        print(\"Image downloaded and saved successfully.\")\n",
    "\n",
    "    except requests.exceptions.RequestException as e:\n",
    "        print(\"Error: Failed to download the image.\")\n",
    "        print(e)"
   ]
  },
  {
   "cell_type": "code",
   "execution_count": 63,
   "metadata": {},
   "outputs": [],
   "source": [
    "image_url = df.ImageUrls.iloc[2]\n",
    "image_url = image_url.strip(\"'[]'\")\n",
    "save_path = (\"../data/test_image.jpg\")"
   ]
  },
  {
   "cell_type": "code",
   "execution_count": 64,
   "metadata": {},
   "outputs": [
    {
     "name": "stdout",
     "output_type": "stream",
     "text": [
      "Error: Failed to download the image.\n",
      "403 Client Error: Forbidden for url: https://docucamrw.hesotech.eu/DocuCam/CameraTwo/Image/2/1/3/1/2022-10-20T08-00Z\n"
     ]
    }
   ],
   "source": [
    "download_image(image_url, save_path)\n"
   ]
  },
  {
   "cell_type": "code",
   "execution_count": 46,
   "metadata": {},
   "outputs": [],
   "source": [
    "df_all = pd.read_csv(\"../data/data_all_cameras.csv\")"
   ]
  },
  {
   "cell_type": "code",
   "execution_count": 47,
   "metadata": {},
   "outputs": [],
   "source": [
    "df_filter = df_all[df_all['ImageUrls'].str.contains(\"CameraTwo/Image/2/2/\")]\n"
   ]
  },
  {
   "cell_type": "code",
   "execution_count": 48,
   "metadata": {},
   "outputs": [
    {
     "data": {
      "text/plain": [
       "\"['https://docucamrw.hesotech.eu/DocuCam/CameraTwo/Image/2/0/1/0/2022-10-19T14-53Z', 'https://docucamrw.hesotech.eu/DocuCam/CameraTwo/Image/2/0/1/1/2022-10-19T14-53Z', 'https://docucamrw.hesotech.eu/DocuCam/CameraTwo/Image/2/0/2/0/2022-10-19T14-53Z', 'https://docucamrw.hesotech.eu/DocuCam/CameraTwo/Image/2/0/2/1/2022-10-19T14-53Z', 'https://docucamrw.hesotech.eu/DocuCam/CameraTwo/Image/2/1/0/0/2022-10-19T14-53Z', 'https://docucamrw.hesotech.eu/DocuCam/CameraTwo/Image/2/1/0/1/2022-10-19T14-53Z', 'https://docucamrw.hesotech.eu/DocuCam/CameraTwo/Image/2/1/0/2/2022-10-19T14-53Z', 'https://docucamrw.hesotech.eu/DocuCam/CameraTwo/Image/2/1/3/0/2022-10-19T14-53Z', 'https://docucamrw.hesotech.eu/DocuCam/CameraTwo/Image/2/1/3/1/2022-10-19T14-53Z', 'https://docucamrw.hesotech.eu/DocuCam/CameraTwo/Image/2/1/3/2/2022-10-19T14-53Z', 'https://docucamrw.hesotech.eu/DocuCam/CameraTwo/Image/2/1/4/0/2022-10-19T14-53Z', 'https://docucamrw.hesotech.eu/DocuCam/CameraTwo/Image/2/1/4/1/2022-10-19T14-53Z', 'https://docucamrw.hesotech.eu/DocuCam/CameraTwo/Image/2/2/9/3/2022-10-19T14-53Z', 'https://docucamrw.hesotech.eu/DocuCam/CameraTwo/Image/2/2/9/4/2022-10-19T14-53Z', 'https://docucamrw.hesotech.eu/DocuCam/CameraTwo/Image/2/2/9/5/2022-10-19T14-53Z', 'https://docucamrw.hesotech.eu/DocuCam/CameraTwo/Image/2/2/10/2/2022-10-19T14-53Z', 'https://docucamrw.hesotech.eu/DocuCam/CameraTwo/Image/2/2/10/3/2022-10-19T14-53Z', 'https://docucamrw.hesotech.eu/DocuCam/CameraTwo/Image/2/2/10/4/2022-10-19T14-53Z', 'https://docucamrw.hesotech.eu/DocuCam/CameraTwo/Image/2/2/10/5/2022-10-19T14-53Z', 'https://docucamrw.hesotech.eu/DocuCam/CameraTwo/Image/2/2/10/6/2022-10-19T14-53Z', 'https://docucamrw.hesotech.eu/DocuCam/CameraTwo/Image/2/2/11/0/2022-10-19T14-53Z', 'https://docucamrw.hesotech.eu/DocuCam/CameraTwo/Image/2/2/11/1/2022-10-19T14-53Z', 'https://docucamrw.hesotech.eu/DocuCam/CameraTwo/Image/2/2/11/2/2022-10-19T14-53Z', 'https://docucamrw.hesotech.eu/DocuCam/CameraTwo/Image/2/2/11/3/2022-10-19T14-53Z', 'https://docucamrw.hesotech.eu/DocuCam/CameraTwo/Image/2/2/11/4/2022-10-19T14-53Z', 'https://docucamrw.hesotech.eu/DocuCam/CameraTwo/Image/2/2/11/5/2022-10-19T14-53Z', 'https://docucamrw.hesotech.eu/DocuCam/CameraTwo/Image/2/2/12/0/2022-10-19T14-53Z', 'https://docucamrw.hesotech.eu/DocuCam/CameraTwo/Image/2/2/12/1/2022-10-19T14-53Z', 'https://docucamrw.hesotech.eu/DocuCam/CameraTwo/Image/2/2/12/2/2022-10-19T14-53Z', 'https://docucamrw.hesotech.eu/DocuCam/CameraTwo/Image/2/2/12/3/2022-10-19T14-53Z', 'https://docucamrw.hesotech.eu/DocuCam/CameraTwo/Image/2/2/12/4/2022-10-19T14-53Z', 'https://docucamrw.hesotech.eu/DocuCam/CameraTwo/Image/2/2/12/5/2022-10-19T14-53Z', 'https://docucamrw.hesotech.eu/DocuCam/CameraTwo/Image/2/2/13/0/2022-10-19T14-53Z', 'https://docucamrw.hesotech.eu/DocuCam/CameraTwo/Image/2/2/13/1/2022-10-19T14-53Z', 'https://docucamrw.hesotech.eu/DocuCam/CameraTwo/Image/2/2/13/2/2022-10-19T14-53Z', 'https://docucamrw.hesotech.eu/DocuCam/CameraTwo/Image/2/2/13/3/2022-10-19T14-53Z', 'https://docucamrw.hesotech.eu/DocuCam/CameraTwo/Image/2/2/13/4/2022-10-19T14-53Z', 'https://docucamrw.hesotech.eu/DocuCam/CameraTwo/Image/2/2/13/5/2022-10-19T14-53Z', 'https://docucamrw.hesotech.eu/DocuCam/CameraTwo/Image/2/2/14/0/2022-10-19T14-53Z', 'https://docucamrw.hesotech.eu/DocuCam/CameraTwo/Image/2/2/14/1/2022-10-19T14-53Z', 'https://docucamrw.hesotech.eu/DocuCam/CameraTwo/Image/2/2/14/2/2022-10-19T14-53Z', 'https://docucamrw.hesotech.eu/DocuCam/CameraTwo/Image/2/2/14/3/2022-10-19T14-53Z', 'https://docucamrw.hesotech.eu/DocuCam/CameraTwo/Image/2/2/14/4/2022-10-19T14-53Z', 'https://docucamrw.hesotech.eu/DocuCam/CameraTwo/Image/2/2/14/5/2022-10-19T14-53Z']\""
      ]
     },
     "execution_count": 48,
     "metadata": {},
     "output_type": "execute_result"
    }
   ],
   "source": [
    "df_filter.ImageUrls.iloc[0]"
   ]
  },
  {
   "cell_type": "code",
   "execution_count": 33,
   "metadata": {},
   "outputs": [
    {
     "data": {
      "text/plain": [
       "\"['https://docucamrw.hesotech.eu/DocuCam/CameraTwo/Image/2/0/1/0/2023-09-04T08-00Z', 'https://docucamrw.hesotech.eu/DocuCam/CameraTwo/Image/2/0/1/1/2023-09-04T08-00Z', 'https://docucamrw.hesotech.eu/DocuCam/CameraTwo/Image/2/0/2/0/2023-09-04T08-00Z', 'https://docucamrw.hesotech.eu/DocuCam/CameraTwo/Image/2/0/2/1/2023-09-04T08-00Z', 'https://docucamrw.hesotech.eu/DocuCam/CameraTwo/Image/2/1/0/0/2023-09-04T08-00Z', 'https://docucamrw.hesotech.eu/DocuCam/CameraTwo/Image/2/1/0/1/2023-09-04T08-00Z', 'https://docucamrw.hesotech.eu/DocuCam/CameraTwo/Image/2/1/0/2/2023-09-04T08-00Z', 'https://docucamrw.hesotech.eu/DocuCam/CameraTwo/Image/2/1/3/0/2023-09-04T08-00Z', 'https://docucamrw.hesotech.eu/DocuCam/CameraTwo/Image/2/1/3/1/2023-09-04T08-00Z', 'https://docucamrw.hesotech.eu/DocuCam/CameraTwo/Image/2/1/3/2/2023-09-04T08-00Z', 'https://docucamrw.hesotech.eu/DocuCam/CameraTwo/Image/2/1/4/0/2023-09-04T08-00Z', 'https://docucamrw.hesotech.eu/DocuCam/CameraTwo/Image/2/1/4/1/2023-09-04T08-00Z', 'https://docucamrw.hesotech.eu/DocuCam/CameraTwo/Image/2/2/9/3/2023-09-04T08-00Z', 'https://docucamrw.hesotech.eu/DocuCam/CameraTwo/Image/2/2/9/4/2023-09-04T08-00Z', 'https://docucamrw.hesotech.eu/DocuCam/CameraTwo/Image/2/2/9/5/2023-09-04T08-00Z', 'https://docucamrw.hesotech.eu/DocuCam/CameraTwo/Image/2/2/10/2/2023-09-04T08-00Z', 'https://docucamrw.hesotech.eu/DocuCam/CameraTwo/Image/2/2/10/3/2023-09-04T08-00Z', 'https://docucamrw.hesotech.eu/DocuCam/CameraTwo/Image/2/2/10/4/2023-09-04T08-00Z', 'https://docucamrw.hesotech.eu/DocuCam/CameraTwo/Image/2/2/10/5/2023-09-04T08-00Z', 'https://docucamrw.hesotech.eu/DocuCam/CameraTwo/Image/2/2/10/6/2023-09-04T08-00Z', 'https://docucamrw.hesotech.eu/DocuCam/CameraTwo/Image/2/2/11/0/2023-09-04T08-00Z', 'https://docucamrw.hesotech.eu/DocuCam/CameraTwo/Image/2/2/11/1/2023-09-04T08-00Z', 'https://docucamrw.hesotech.eu/DocuCam/CameraTwo/Image/2/2/11/2/2023-09-04T08-00Z', 'https://docucamrw.hesotech.eu/DocuCam/CameraTwo/Image/2/2/11/3/2023-09-04T08-00Z', 'https://docucamrw.hesotech.eu/DocuCam/CameraTwo/Image/2/2/11/4/2023-09-04T08-00Z', 'https://docucamrw.hesotech.eu/DocuCam/CameraTwo/Image/2/2/11/5/2023-09-04T08-00Z', 'https://docucamrw.hesotech.eu/DocuCam/CameraTwo/Image/2/2/12/0/2023-09-04T08-00Z', 'https://docucamrw.hesotech.eu/DocuCam/CameraTwo/Image/2/2/12/1/2023-09-04T08-00Z', 'https://docucamrw.hesotech.eu/DocuCam/CameraTwo/Image/2/2/12/2/2023-09-04T08-00Z', 'https://docucamrw.hesotech.eu/DocuCam/CameraTwo/Image/2/2/12/3/2023-09-04T08-00Z', 'https://docucamrw.hesotech.eu/DocuCam/CameraTwo/Image/2/2/12/4/2023-09-04T08-00Z', 'https://docucamrw.hesotech.eu/DocuCam/CameraTwo/Image/2/2/12/5/2023-09-04T08-00Z', 'https://docucamrw.hesotech.eu/DocuCam/CameraTwo/Image/2/2/13/0/2023-09-04T08-00Z', 'https://docucamrw.hesotech.eu/DocuCam/CameraTwo/Image/2/2/13/1/2023-09-04T08-00Z', 'https://docucamrw.hesotech.eu/DocuCam/CameraTwo/Image/2/2/13/2/2023-09-04T08-00Z', 'https://docucamrw.hesotech.eu/DocuCam/CameraTwo/Image/2/2/13/3/2023-09-04T08-00Z', 'https://docucamrw.hesotech.eu/DocuCam/CameraTwo/Image/2/2/13/4/2023-09-04T08-00Z', 'https://docucamrw.hesotech.eu/DocuCam/CameraTwo/Image/2/2/13/5/2023-09-04T08-00Z', 'https://docucamrw.hesotech.eu/DocuCam/CameraTwo/Image/2/2/14/0/2023-09-04T08-00Z', 'https://docucamrw.hesotech.eu/DocuCam/CameraTwo/Image/2/2/14/1/2023-09-04T08-00Z', 'https://docucamrw.hesotech.eu/DocuCam/CameraTwo/Image/2/2/14/2/2023-09-04T08-00Z', 'https://docucamrw.hesotech.eu/DocuCam/CameraTwo/Image/2/2/14/3/2023-09-04T08-00Z', 'https://docucamrw.hesotech.eu/DocuCam/CameraTwo/Image/2/2/14/4/2023-09-04T08-00Z', 'https://docucamrw.hesotech.eu/DocuCam/CameraTwo/Image/2/2/14/5/2023-09-04T08-00Z']\""
      ]
     },
     "execution_count": 33,
     "metadata": {},
     "output_type": "execute_result"
    }
   ],
   "source": [
    "df_all.ImageUrls.iloc[2000]"
   ]
  },
  {
   "cell_type": "code",
   "execution_count": 34,
   "metadata": {},
   "outputs": [
    {
     "ename": "SyntaxError",
     "evalue": "invalid syntax (1826005993.py, line 1)",
     "output_type": "error",
     "traceback": [
      "\u001b[0;36m  Input \u001b[0;32mIn [34]\u001b[0;36m\u001b[0m\n\u001b[0;31m    https://docucamrw.hesotech.eu/DocuCam/CameraTwo/Image/2/0/1/0/2023-09-04T08-00Z\u001b[0m\n\u001b[0m          ^\u001b[0m\n\u001b[0;31mSyntaxError\u001b[0m\u001b[0;31m:\u001b[0m invalid syntax\n"
     ]
    }
   ],
   "source": [
    "https://docucamrw.hesotech.eu/DocuCam/CameraTwo/Image/2/1/1/0/2023-09-04T08-00Z\n",
    "\n",
    "https://docucamrw.hesotech.eu/DocuCam/CameraTwo/Image/2/1/3/1/2023-10-17T08-00Z\n",
    "\n",
    "\n",
    "https://docucamrw.hesotech.eu/DocuCam/CameraTwo/gui/ui/?site=1&scene=2&layer=2&row=4&column=2&utc=2023-10-17T08-00Z&imgType=VISIBLE"
   ]
  },
  {
   "cell_type": "code",
   "execution_count": null,
   "metadata": {},
   "outputs": [],
   "source": []
  }
 ],
 "metadata": {
  "kernelspec": {
   "display_name": "landslide",
   "language": "python",
   "name": "python3"
  },
  "language_info": {
   "codemirror_mode": {
    "name": "ipython",
    "version": 3
   },
   "file_extension": ".py",
   "mimetype": "text/x-python",
   "name": "python",
   "nbconvert_exporter": "python",
   "pygments_lexer": "ipython3",
   "version": "3.8.13"
  },
  "orig_nbformat": 4
 },
 "nbformat": 4,
 "nbformat_minor": 2
}
